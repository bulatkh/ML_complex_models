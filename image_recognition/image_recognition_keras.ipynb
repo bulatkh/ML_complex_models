{
 "cells": [
  {
   "cell_type": "code",
   "execution_count": 1,
   "metadata": {},
   "outputs": [
    {
     "name": "stderr",
     "output_type": "stream",
     "text": [
      "D:\\Anaconda\\lib\\site-packages\\h5py\\__init__.py:36: FutureWarning: Conversion of the second argument of issubdtype from `float` to `np.floating` is deprecated. In future, it will be treated as `np.float64 == np.dtype(float).type`.\n",
      "  from ._conv import register_converters as _register_converters\n",
      "Using TensorFlow backend.\n"
     ]
    }
   ],
   "source": [
    "from keras import datasets, utils\n",
    "from keras.models import Sequential\n",
    "from keras.layers import Dense, Dropout, Flatten, Conv2D, MaxPooling2D\n",
    "import numpy as np\n",
    "from path import Path\n",
    "from tensorflow.python.client import device_lib"
   ]
  },
  {
   "cell_type": "markdown",
   "metadata": {},
   "source": [
    "Before starting check availability of GPU device."
   ]
  },
  {
   "cell_type": "code",
   "execution_count": 2,
   "metadata": {},
   "outputs": [
    {
     "data": {
      "text/plain": [
       "[name: \"/device:CPU:0\"\n",
       " device_type: \"CPU\"\n",
       " memory_limit: 268435456\n",
       " locality {\n",
       " }\n",
       " incarnation: 12588679803414664209, name: \"/device:GPU:0\"\n",
       " device_type: \"GPU\"\n",
       " memory_limit: 1479858585\n",
       " locality {\n",
       "   bus_id: 1\n",
       "   links {\n",
       "   }\n",
       " }\n",
       " incarnation: 3059886523523747824\n",
       " physical_device_desc: \"device: 0, name: GeForce 840M, pci bus id: 0000:07:00.0, compute capability: 5.0\"]"
      ]
     },
     "execution_count": 2,
     "metadata": {},
     "output_type": "execute_result"
    }
   ],
   "source": [
    "device_lib.list_local_devices()"
   ]
  },
  {
   "cell_type": "code",
   "execution_count": 3,
   "metadata": {},
   "outputs": [
    {
     "name": "stdout",
     "output_type": "stream",
     "text": [
      "Populating the interactive namespace from numpy and matplotlib\n"
     ]
    }
   ],
   "source": [
    "%pylab inline"
   ]
  },
  {
   "cell_type": "markdown",
   "metadata": {},
   "source": [
    "### Load and preprocess the data"
   ]
  },
  {
   "cell_type": "markdown",
   "metadata": {},
   "source": [
    "Names of each label from CIFAR-10 dataset"
   ]
  },
  {
   "cell_type": "code",
   "execution_count": 4,
   "metadata": {},
   "outputs": [],
   "source": [
    "cifar_10_labels = {\n",
    "    0: \"Plane\",\n",
    "    1: \"Car\",\n",
    "    2: \"Bird\",\n",
    "    3: \"Cat\",\n",
    "    4: \"Deer\",\n",
    "    5: \"Dog\",\n",
    "    6: \"Frog\",\n",
    "    7: \"Horse\",\n",
    "    8: \"Boat\",\n",
    "    9: \"Truck\"\n",
    "}"
   ]
  },
  {
   "cell_type": "markdown",
   "metadata": {},
   "source": [
    "Load dataset using keras.datasets"
   ]
  },
  {
   "cell_type": "code",
   "execution_count": 5,
   "metadata": {},
   "outputs": [],
   "source": [
    "(x_train, y_train),(x_test, y_test) = datasets.cifar10.load_data()"
   ]
  },
  {
   "cell_type": "markdown",
   "metadata": {},
   "source": [
    "Show first picture from the train data (guess it is a frog)."
   ]
  },
  {
   "cell_type": "code",
   "execution_count": 6,
   "metadata": {},
   "outputs": [
    {
     "data": {
      "text/plain": [
       "<matplotlib.image.AxesImage at 0x1a7c9086a20>"
      ]
     },
     "execution_count": 6,
     "metadata": {},
     "output_type": "execute_result"
    },
    {
     "data": {
      "image/png": "[encoded data removed]",
      "text/plain": [
       "<matplotlib.figure.Figure at 0x1a7b05d8518>"
      ]
     },
     "metadata": {},
     "output_type": "display_data"
    }
   ],
   "source": [
    "pylab.imshow(x_train[0])"
   ]
  },
  {
   "cell_type": "code",
   "execution_count": 7,
   "metadata": {},
   "outputs": [
    {
     "name": "stdout",
     "output_type": "stream",
     "text": [
      "Label of the image: Frog\n"
     ]
    }
   ],
   "source": [
    "print(\"Label of the image:\", cifar_10_labels[y_train[0][0]])"
   ]
  },
  {
   "cell_type": "markdown",
   "metadata": {},
   "source": [
    "Let's check shape of the image."
   ]
  },
  {
   "cell_type": "code",
   "execution_count": 8,
   "metadata": {},
   "outputs": [
    {
     "name": "stdout",
     "output_type": "stream",
     "text": [
      "(32, 32, 3)\n"
     ]
    }
   ],
   "source": [
    "print(x_train[0].shape)"
   ]
  },
  {
   "cell_type": "markdown",
   "metadata": {},
   "source": [
    "As we can see, the image is 3 dimenstional with height and width equal to 32. Each reflects RGB colormap.\n",
    "\n",
    "Let's check the values of pixels."
   ]
  },
  {
   "cell_type": "code",
   "execution_count": 9,
   "metadata": {},
   "outputs": [
    {
     "name": "stdout",
     "output_type": "stream",
     "text": [
      "[[[ 59  62  63]\n",
      "  [ 43  46  45]\n",
      "  [ 50  48  43]\n",
      "  ...\n",
      "  [158 132 108]\n",
      "  [152 125 102]\n",
      "  [148 124 103]]\n",
      "\n",
      " [[ 16  20  20]\n",
      "  [  0   0   0]\n",
      "  [ 18   8   0]\n",
      "  ...\n",
      "  [123  88  55]\n",
      "  [119  83  50]\n",
      "  [122  87  57]]\n",
      "\n",
      " [[ 25  24  21]\n",
      "  [ 16   7   0]\n",
      "  [ 49  27   8]\n",
      "  ...\n",
      "  [118  84  50]\n",
      "  [120  84  50]\n",
      "  [109  73  42]]\n",
      "\n",
      " ...\n",
      "\n",
      " [[208 170  96]\n",
      "  [201 153  34]\n",
      "  [198 161  26]\n",
      "  ...\n",
      "  [160 133  70]\n",
      "  [ 56  31   7]\n",
      "  [ 53  34  20]]\n",
      "\n",
      " [[180 139  96]\n",
      "  [173 123  42]\n",
      "  [186 144  30]\n",
      "  ...\n",
      "  [184 148  94]\n",
      "  [ 97  62  34]\n",
      "  [ 83  53  34]]\n",
      "\n",
      " [[177 144 116]\n",
      "  [168 129  94]\n",
      "  [179 142  87]\n",
      "  ...\n",
      "  [216 184 140]\n",
      "  [151 118  84]\n",
      "  [123  92  72]]]\n"
     ]
    }
   ],
   "source": [
    "print(x_train[0])"
   ]
  },
  {
   "cell_type": "markdown",
   "metadata": {},
   "source": [
    "Values of pixels are numbers between 0 and 255. It would be better to normalize them and make them between 0 and 1."
   ]
  },
  {
   "cell_type": "code",
   "execution_count": 10,
   "metadata": {},
   "outputs": [],
   "source": [
    "x_train = x_train.astype(\"float32\")\n",
    "x_test = x_test.astype(\"float32\")"
   ]
  },
  {
   "cell_type": "code",
   "execution_count": 11,
   "metadata": {},
   "outputs": [],
   "source": [
    "x_train = x_train / 255\n",
    "x_test = x_test / 255"
   ]
  },
  {
   "cell_type": "markdown",
   "metadata": {},
   "source": [
    "Next, we should encode label values. For example: Frog - 6 should be [0, 0, 0, 0, 0, 0, 1, 0, 0, 0]"
   ]
  },
  {
   "cell_type": "code",
   "execution_count": 12,
   "metadata": {},
   "outputs": [],
   "source": [
    "y_train = utils.to_categorical(y_train, 10)\n",
    "y_test = utils.to_categorical(y_test, 10)"
   ]
  },
  {
   "cell_type": "code",
   "execution_count": 13,
   "metadata": {},
   "outputs": [
    {
     "name": "stdout",
     "output_type": "stream",
     "text": [
      "(50000, 32, 32, 3)\n",
      "(50000, 10)\n"
     ]
    }
   ],
   "source": [
    "print(x_train.shape)\n",
    "print(y_train.shape)"
   ]
  },
  {
   "cell_type": "markdown",
   "metadata": {},
   "source": [
    "### Create the model"
   ]
  },
  {
   "cell_type": "markdown",
   "metadata": {},
   "source": [
    "Create convolutional neural network which contatins convolutional, pooling, dropout and dense layers.\n",
    "Dropout layer is used to avoid overfitting. It just ignores randomly selected outputs and make neural network learn harder without just memorizing training images."
   ]
  },
  {
   "cell_type": "code",
   "execution_count": 14,
   "metadata": {},
   "outputs": [],
   "source": [
    "model = Sequential()\n",
    "\n",
    "# First convolutional block\n",
    "model.add(Conv2D(32, (3, 3), padding='same', activation='relu', input_shape=x_train[0].shape))\n",
    "model.add(Conv2D(32, (3, 3), padding='same', activation='relu'))\n",
    "model.add(MaxPooling2D(pool_size=(2, 2)))\n",
    "model.add(Dropout(0.25))\n",
    "\n",
    "# Second convolutional block\n",
    "model.add(Conv2D(64, (3, 3), padding='same', activation='relu'))\n",
    "model.add(Conv2D(64, (3, 3), activation='relu'))\n",
    "model.add(MaxPooling2D(pool_size=(2, 2)))\n",
    "model.add(Dropout(0.25))\n",
    "\n",
    "# add flatten layer to make one-dimensional layer with neurons\n",
    "model.add(Flatten())\n",
    "\n",
    "# classical dense layer\n",
    "model.add(Dense(512, activation='relu'))\n",
    "model.add(Dropout(0.5))\n",
    "model.add(Dense(10, activation='softmax'))"
   ]
  },
  {
   "cell_type": "markdown",
   "metadata": {},
   "source": [
    "Check the architecture of the network."
   ]
  },
  {
   "cell_type": "code",
   "execution_count": 15,
   "metadata": {},
   "outputs": [
    {
     "name": "stdout",
     "output_type": "stream",
     "text": [
      "_________________________________________________________________\n",
      "Layer (type)                 Output Shape              Param #   \n",
      "=================================================================\n",
      "conv2d_1 (Conv2D)            (None, 32, 32, 32)        896       \n",
      "_________________________________________________________________\n",
      "conv2d_2 (Conv2D)            (None, 32, 32, 32)        9248      \n",
      "_________________________________________________________________\n",
      "max_pooling2d_1 (MaxPooling2 (None, 16, 16, 32)        0         \n",
      "_________________________________________________________________\n",
      "dropout_1 (Dropout)          (None, 16, 16, 32)        0         \n",
      "_________________________________________________________________\n",
      "conv2d_3 (Conv2D)            (None, 16, 16, 64)        18496     \n",
      "_________________________________________________________________\n",
      "conv2d_4 (Conv2D)            (None, 14, 14, 64)        36928     \n",
      "_________________________________________________________________\n",
      "max_pooling2d_2 (MaxPooling2 (None, 7, 7, 64)          0         \n",
      "_________________________________________________________________\n",
      "dropout_2 (Dropout)          (None, 7, 7, 64)          0         \n",
      "_________________________________________________________________\n",
      "flatten_1 (Flatten)          (None, 3136)              0         \n",
      "_________________________________________________________________\n",
      "dense_1 (Dense)              (None, 512)               1606144   \n",
      "_________________________________________________________________\n",
      "dropout_3 (Dropout)          (None, 512)               0         \n",
      "_________________________________________________________________\n",
      "dense_2 (Dense)              (None, 10)                5130      \n",
      "=================================================================\n",
      "Total params: 1,676,842\n",
      "Trainable params: 1,676,842\n",
      "Non-trainable params: 0\n",
      "_________________________________________________________________\n"
     ]
    }
   ],
   "source": [
    "model.summary()"
   ]
  },
  {
   "cell_type": "markdown",
   "metadata": {},
   "source": [
    "Compile the neural network."
   ]
  },
  {
   "cell_type": "code",
   "execution_count": 16,
   "metadata": {},
   "outputs": [],
   "source": [
    "model.compile(optimizer='adam', \n",
    "              loss='categorical_crossentropy',\n",
    "              metrics=['accuracy'])"
   ]
  },
  {
   "cell_type": "markdown",
   "metadata": {},
   "source": [
    "## Training and testing"
   ]
  },
  {
   "cell_type": "markdown",
   "metadata": {},
   "source": [
    "Train neural network on training data using testing data as a validation set."
   ]
  },
  {
   "cell_type": "code",
   "execution_count": 17,
   "metadata": {},
   "outputs": [
    {
     "name": "stdout",
     "output_type": "stream",
     "text": [
      "Train on 50000 samples, validate on 10000 samples\n",
      "Epoch 1/30\n",
      "50000/50000 [==============================] - 84s 2ms/step - loss: 1.5356 - acc: 0.4388 - val_loss: 1.1283 - val_acc: 0.6005\n",
      "Epoch 2/30\n",
      "50000/50000 [==============================] - 74s 1ms/step - loss: 1.1187 - acc: 0.6009 - val_loss: 1.0077 - val_acc: 0.6446\n",
      "Epoch 3/30\n",
      "50000/50000 [==============================] - 74s 1ms/step - loss: 0.9717 - acc: 0.6576 - val_loss: 0.8583 - val_acc: 0.6990\n",
      "Epoch 4/30\n",
      "50000/50000 [==============================] - 74s 1ms/step - loss: 0.8847 - acc: 0.6894 - val_loss: 0.7937 - val_acc: 0.7176\n",
      "Epoch 5/30\n",
      "50000/50000 [==============================] - 74s 1ms/step - loss: 0.8273 - acc: 0.7079 - val_loss: 0.7688 - val_acc: 0.7320\n",
      "Epoch 6/30\n",
      "50000/50000 [==============================] - 74s 1ms/step - loss: 0.7871 - acc: 0.7207 - val_loss: 0.7762 - val_acc: 0.7325\n",
      "Epoch 7/30\n",
      "50000/50000 [==============================] - 74s 1ms/step - loss: 0.7454 - acc: 0.7398 - val_loss: 0.7214 - val_acc: 0.7507\n",
      "Epoch 8/30\n",
      "50000/50000 [==============================] - 74s 1ms/step - loss: 0.7151 - acc: 0.7473 - val_loss: 0.7168 - val_acc: 0.7524\n",
      "Epoch 9/30\n",
      "50000/50000 [==============================] - 74s 1ms/step - loss: 0.6772 - acc: 0.7611 - val_loss: 0.6721 - val_acc: 0.7706\n",
      "Epoch 10/30\n",
      "50000/50000 [==============================] - 74s 1ms/step - loss: 0.6583 - acc: 0.7685 - val_loss: 0.7035 - val_acc: 0.7587\n",
      "Epoch 11/30\n",
      "50000/50000 [==============================] - 74s 1ms/step - loss: 0.6388 - acc: 0.7734 - val_loss: 0.7085 - val_acc: 0.7631\n",
      "Epoch 12/30\n",
      "50000/50000 [==============================] - 74s 1ms/step - loss: 0.6210 - acc: 0.7805 - val_loss: 0.6880 - val_acc: 0.7643\n",
      "Epoch 13/30\n",
      "50000/50000 [==============================] - 75s 1ms/step - loss: 0.6040 - acc: 0.7866 - val_loss: 0.6754 - val_acc: 0.7739\n",
      "Epoch 14/30\n",
      "50000/50000 [==============================] - 75s 1ms/step - loss: 0.5851 - acc: 0.7937 - val_loss: 0.6716 - val_acc: 0.7701\n",
      "Epoch 15/30\n",
      "50000/50000 [==============================] - 75s 1ms/step - loss: 0.5693 - acc: 0.8008 - val_loss: 0.6816 - val_acc: 0.7728\n",
      "Epoch 16/30\n",
      "50000/50000 [==============================] - 74s 1ms/step - loss: 0.5535 - acc: 0.8036 - val_loss: 0.7067 - val_acc: 0.7649\n",
      "Epoch 17/30\n",
      "50000/50000 [==============================] - 74s 1ms/step - loss: 0.5444 - acc: 0.8072 - val_loss: 0.6716 - val_acc: 0.7774\n",
      "Epoch 18/30\n",
      "50000/50000 [==============================] - 74s 1ms/step - loss: 0.5356 - acc: 0.8126 - val_loss: 0.6777 - val_acc: 0.7778\n",
      "Epoch 19/30\n",
      "50000/50000 [==============================] - 75s 2ms/step - loss: 0.5222 - acc: 0.8147 - val_loss: 0.6910 - val_acc: 0.7743\n",
      "Epoch 20/30\n",
      "50000/50000 [==============================] - 74s 1ms/step - loss: 0.5078 - acc: 0.8210 - val_loss: 0.6694 - val_acc: 0.7834\n",
      "Epoch 21/30\n",
      "50000/50000 [==============================] - 74s 1ms/step - loss: 0.4984 - acc: 0.8231 - val_loss: 0.6708 - val_acc: 0.7784\n",
      "Epoch 22/30\n",
      "50000/50000 [==============================] - 75s 2ms/step - loss: 0.4931 - acc: 0.8269 - val_loss: 0.6771 - val_acc: 0.7748\n",
      "Epoch 23/30\n",
      "50000/50000 [==============================] - 80s 2ms/step - loss: 0.4863 - acc: 0.8286 - val_loss: 0.7355 - val_acc: 0.7736\n",
      "Epoch 24/30\n",
      "50000/50000 [==============================] - 76s 2ms/step - loss: 0.4728 - acc: 0.8341 - val_loss: 0.6933 - val_acc: 0.7811\n",
      "Epoch 25/30\n",
      "50000/50000 [==============================] - 74s 1ms/step - loss: 0.4712 - acc: 0.8354 - val_loss: 0.6919 - val_acc: 0.7845\n",
      "Epoch 26/30\n",
      "50000/50000 [==============================] - 74s 1ms/step - loss: 0.4581 - acc: 0.8396 - val_loss: 0.6992 - val_acc: 0.7804\n",
      "Epoch 27/30\n",
      "50000/50000 [==============================] - 74s 1ms/step - loss: 0.4607 - acc: 0.8394 - val_loss: 0.6583 - val_acc: 0.7865\n",
      "Epoch 28/30\n",
      "50000/50000 [==============================] - 74s 1ms/step - loss: 0.4461 - acc: 0.8432 - val_loss: 0.6879 - val_acc: 0.7883\n",
      "Epoch 29/30\n",
      "50000/50000 [==============================] - 74s 1ms/step - loss: 0.4448 - acc: 0.8456 - val_loss: 0.6966 - val_acc: 0.7816\n",
      "Epoch 30/30\n",
      "50000/50000 [==============================] - 76s 2ms/step - loss: 0.4384 - acc: 0.8453 - val_loss: 0.7073 - val_acc: 0.7846\n"
     ]
    },
    {
     "data": {
      "text/plain": [
       "<keras.callbacks.History at 0x1a7d131d710>"
      ]
     },
     "execution_count": 17,
     "metadata": {},
     "output_type": "execute_result"
    }
   ],
   "source": [
    "model.fit(x_train,\n",
    "          y_train,\n",
    "          batch_size=32,\n",
    "          epochs=30,\n",
    "          validation_data=(x_test, y_test),\n",
    "          shuffle=True)"
   ]
  },
  {
   "cell_type": "markdown",
   "metadata": {},
   "source": [
    "As we can see, validation accuracy after last epoch was about 78.5%. However, it was sometimes better before last iteration. What is interesting that validation accuracy had not increased much after 10-15 epochs."
   ]
  },
  {
   "cell_type": "markdown",
   "metadata": {},
   "source": [
    "Save structure and parameters of neural network. It is better to save structure and parameters separately because we may use same structure with different parameters to evaluate the performance of neural network."
   ]
  },
  {
   "cell_type": "code",
   "execution_count": 18,
   "metadata": {},
   "outputs": [],
   "source": [
    "model_structure = model.to_json()\n",
    "f = Path('model_structure.json')\n",
    "f.write_text(model_structure)"
   ]
  },
  {
   "cell_type": "code",
   "execution_count": 19,
   "metadata": {},
   "outputs": [],
   "source": [
    "model.save_weights('model_weight.h5')"
   ]
  },
  {
   "cell_type": "code",
   "execution_count": null,
   "metadata": {},
   "outputs": [],
   "source": []
  }
 ],
 "metadata": {
  "kernelspec": {
   "display_name": "Python 3",
   "language": "python",
   "name": "python3"
  },
  "language_info": {
   "codemirror_mode": {
    "name": "ipython",
    "version": 3
   },
   "file_extension": ".py",
   "mimetype": "text/x-python",
   "name": "python",
   "nbconvert_exporter": "python",
   "pygments_lexer": "ipython3",
   "version": "3.6.4"
  }
 },
 "nbformat": 4,
 "nbformat_minor": 2
}
